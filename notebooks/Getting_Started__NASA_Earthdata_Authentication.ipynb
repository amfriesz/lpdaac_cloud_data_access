{
 "cells": [
  {
   "cell_type": "markdown",
   "id": "ordinary-guard",
   "metadata": {},
   "source": [
    "# Getting Started: Authentication for NASA Earthdata "
   ]
  },
  {
   "cell_type": "markdown",
   "id": "future-pakistan",
   "metadata": {},
   "source": [
    "## Summary\n",
    "This notebook creates a hidden `.netrc` file (`_netrc` for Window OS) with Earthdata login credentials in your home directory. This file is need to access NASA Earthdata assets from a scripting environent like Python.\n",
    "\n",
    "### Earthdata Login\n",
    "\n",
    "An Earthdata Login account is required to access data, as well as discover restricted data, from the NASA Earthdata system. Thus, to access NASA data, you need Earthdata Login. Please visit <https://urs.earthdata.nasa.gov> to register and manage your Earthdata Login account. This account is free to create and only takes a moment to set up.\n",
    "\n",
    "### Authentication via netrc File\n",
    "\n",
    "You will need a netrc file containing your NASA Earthdata Login credentials in order to execute the notebooks. A netrc file can be created manually within text editor and saved to your home directory. An example of the required content is below.\n",
    "\n",
    "```text\n",
    "machine urs.earthdata.nasa.gov\n",
    "login <USERNAME>\n",
    "password <PASSWORD>\n",
    "```\n",
    "\n",
    "`<USERNAME>` and `<PASSWORD>` would be replaced by your actual Earthdata Login username and password respectively."
   ]
  },
  {
   "cell_type": "markdown",
   "id": "sporting-confidence",
   "metadata": {},
   "source": [
    "---"
   ]
  },
  {
   "cell_type": "markdown",
   "id": "blank-bride",
   "metadata": {},
   "source": [
    "## Import Required Packages"
   ]
  },
  {
   "cell_type": "code",
   "execution_count": 1,
   "id": "thermal-analysis",
   "metadata": {},
   "outputs": [],
   "source": [
    "from netrc import netrc\n",
    "from subprocess import Popen\n",
    "from platform import system\n",
    "from getpass import getpass\n",
    "import os"
   ]
  },
  {
   "cell_type": "markdown",
   "id": "polish-overview",
   "metadata": {},
   "source": [
    "The code below will:\n",
    "\n",
    "1. check what operating system (OS) is being used to determine which netrc file to check for/create (.netrc or _netrc)\n",
    "2. check if you have an netrc file, and if so, varify if those credentials are for the Earthdata endpoint\n",
    "3. create a netrc file if a netrc file is not present."
   ]
  },
  {
   "cell_type": "code",
   "execution_count": 2,
   "id": "saved-trauma",
   "metadata": {},
   "outputs": [],
   "source": [
    "urs = 'urs.earthdata.nasa.gov'    # Earthdata URL endpoint for authentication\n",
    "prompts = ['Enter NASA Earthdata Login Username: ',\n",
    "           'Enter NASA Earthdata Login Password: ']\n",
    "\n",
    "# Determine the OS (Windows machines usually use an '_netrc' file)\n",
    "netrc_name = \"_netrc\" if system()==\"Windows\" else \".netrc\"\n",
    "\n",
    "# Determine if netrc file exists, and if so, if it includes NASA Earthdata Login Credentials\n",
    "try:\n",
    "    netrcDir = os.path.expanduser(f\"~/{netrc_name}\")\n",
    "    netrc(netrcDir).authenticators(urs)[0]\n",
    "\n",
    "# Below, create a netrc file and prompt user for NASA Earthdata Login Username and Password\n",
    "except FileNotFoundError:\n",
    "    homeDir = os.path.expanduser(\"~\")\n",
    "    Popen('touch {0}{2} | chmod og-rw {0}.{2} | echo machine {1} >> {0}.netrc'.format(homeDir + os.sep, urs, netrc_name), shell=True)\n",
    "    Popen('echo login {} >> {}{}'.format(getpass(prompt=prompts[0]), homeDir + os.sep, netrc_name), shell=True)\n",
    "    Popen('echo password \\{} >> {}{}'.format(getpass(prompt=prompts[1]), homeDir + os.sep, netrc_name), shell=True)\n",
    "\n",
    "# Determine OS and edit netrc file if it exists but is not set up for NASA Earthdata Login\n",
    "except TypeError:\n",
    "    homeDir = os.path.expanduser(\"~\")\n",
    "    Popen('echo machine {1} >> {0}{2}'.format(homeDir + os.sep, urs, netrc_name), shell=True)\n",
    "    Popen('echo login {} >> {}{}'.format(getpass(prompt=prompts[0]), homeDir + os.sep, netrc_name), shell=True)\n",
    "    Popen('echo password \\{} >> {}{}'.format(getpass(prompt=prompts[1]), homeDir + os.sep, netrc_name), shell=True)"
   ]
  },
  {
   "cell_type": "markdown",
   "id": "balanced-satin",
   "metadata": {},
   "source": [
    "#### See if the file was created"
   ]
  },
  {
   "cell_type": "markdown",
   "id": "informative-retro",
   "metadata": {},
   "source": [
    "If the file was created, we'll see a `.netrc` file (`_netrc` for Window OS) in the list printed below. To view the contents from a Jupyter environment, click **File** on the top toolbar, select **Open from Path...**, type **.netrc**, and click **Open**. The `.netrc` file will open within the text editor. \n",
    "\n",
    "> **!!! Beware,** your password will be visible if the `.netrc` file is opened in the text editor."
   ]
  },
  {
   "cell_type": "code",
   "execution_count": 3,
   "id": "prompt-auditor",
   "metadata": {},
   "outputs": [
    {
     "name": "stdout",
     "output_type": "stream",
     "text": [
      "total 72\n",
      "drwxr-xr-x 13 jovyan jovyan 6144 Oct 19 20:36 .\n",
      "drwxr-xr-x  1 root   root   4096 Feb  3  2021 ..\n",
      "-rw-------  1 jovyan jovyan 2145 Oct 19 20:35 .bash_history\n",
      "drwxr-xr-x  5 jovyan jovyan 6144 Jul 16 18:19 .cache\n",
      "drwxrwsr-x  2 jovyan jovyan 6144 Jun 11 16:31 .conda\n",
      "drwxr-xr-x  3 jovyan jovyan 6144 May 13 19:23 .config\n",
      "-rw-r--r--  1 jovyan jovyan 1546 Oct  6 15:33 .edl_cookies\n",
      "drwxr-xr-x  2 jovyan jovyan 6144 Jun 11 16:31 .empty\n",
      "-rw-r--r--  1 jovyan jovyan   52 Oct 19 20:19 .gitconfig\n",
      "drwxr-xr-x  2 jovyan jovyan 6144 Oct 19 14:49 .ipynb_checkpoints\n",
      "drwxr-xr-x  5 jovyan jovyan 6144 May 13 19:04 .ipython\n",
      "drwxr-xr-x  3 jovyan jovyan 6144 Jun 11 13:09 .jupyter\n",
      "-rw-r--r--  1 jovyan jovyan    0 Oct 19 20:29 .jupyter-server-log.txt\n",
      "drwxr-xr-x  3 jovyan jovyan 6144 May 13 19:04 .local\n",
      "drwxr-xr-x  6 jovyan jovyan 6144 Oct 19 20:36 lpdaac_cloud_data_access\n",
      "-rw-r--r--  1 jovyan jovyan   69 Oct 19 15:23 .netrc\n",
      "drwxr-xr-x  2 root   root   6144 May 11 19:41 shared\n",
      "drwxr-xr-x  2 root   root   6144 May 11 19:41 shared-readwrite\n"
     ]
    }
   ],
   "source": [
    "!ls -al ~/"
   ]
  }
 ],
 "metadata": {
  "kernelspec": {
   "display_name": "Python 3",
   "language": "python",
   "name": "python3"
  },
  "language_info": {
   "codemirror_mode": {
    "name": "ipython",
    "version": 3
   },
   "file_extension": ".py",
   "mimetype": "text/x-python",
   "name": "python",
   "nbconvert_exporter": "python",
   "pygments_lexer": "ipython3",
   "version": "3.7.9"
  }
 },
 "nbformat": 4,
 "nbformat_minor": 5
}
