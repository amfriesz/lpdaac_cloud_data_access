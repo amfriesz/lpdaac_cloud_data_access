{
 "cells": [
  {
   "cell_type": "markdown",
   "id": "fa21f7e0-c5f0-4b05-8c05-628bd62d7f17",
   "metadata": {},
   "source": [
    "# Authentication for NASA Earthdata "
   ]
  },
  {
   "cell_type": "markdown",
   "id": "604798f9-2724-423c-a8db-212a91b9d74e",
   "metadata": {},
   "source": [
    "## Summary\n",
    "This notebook creates a hidden `.netrc` file (`_netrc` for Window OS) with Earthdata login credentials in your home directory. This file is need to access NASA Earthdata assets from a scripting environent like Python.\n",
    "\n",
    "### Earthdata Login\n",
    "\n",
    "An Earthdata Login account is required to access data, as well as discover restricted data, from the NASA Earthdata system. Thus, to access NASA data, you need Earthdata Login. Please visit <https://urs.earthdata.nasa.gov> to register and manage your Earthdata Login account. This account is free to create and only takes a moment to set up.\n",
    "\n",
    "### Authentication via netrc File\n",
    "\n",
    "You will need a netrc file containing your NASA Earthdata Login credentials in order to execute the notebooks. A netrc file can be created manually within text editor and saved to your home directory. An example of the required content is below.\n",
    "\n",
    "```text\n",
    "machine urs.earthdata.nasa.gov\n",
    "login <USERNAME>\n",
    "password <PASSWORD>\n",
    "```\n",
    "\n",
    "`<USERNAME>` and `<PASSWORD>` would be replaced by your actual Earthdata Login username and password respectively."
   ]
  },
  {
   "cell_type": "markdown",
   "id": "ce1c8901-6459-4df6-88b9-5760e239b348",
   "metadata": {},
   "source": [
    "---"
   ]
  },
  {
   "cell_type": "markdown",
   "id": "d82d56cb-42bb-4d41-b31b-d2720fce039f",
   "metadata": {},
   "source": [
    "## Import Required Packages"
   ]
  },
  {
   "cell_type": "code",
   "execution_count": 19,
   "id": "0bb555ff-4987-4801-8072-086c8883e2a8",
   "metadata": {},
   "outputs": [],
   "source": [
    "from netrc import netrc\n",
    "from subprocess import Popen\n",
    "from platform import system\n",
    "from getpass import getpass\n",
    "import os"
   ]
  },
  {
   "cell_type": "markdown",
   "id": "13792b0b-5615-475b-9b76-6e3367a92853",
   "metadata": {},
   "source": [
    "The code below will:\n",
    "\n",
    "1. check what operating system (OS) is being used to determine which netrc file to check for/create (.netrc or _netrc)\n",
    "2. check if you have an netrc file, and if so, varify if those credentials are for the Earthdata endpoint\n",
    "3. create a netrc file if a netrc file is not present."
   ]
  },
  {
   "cell_type": "code",
   "execution_count": 26,
   "id": "47636b85-ce43-4938-a6f7-7e7f4ed7aa41",
   "metadata": {},
   "outputs": [
    {
     "name": "stdin",
     "output_type": "stream",
     "text": [
      "Enter NASA Earthdata Login Username \n",
      "(or create an account at urs.earthdata.nasa.gov):  ·······\n",
      "Enter NASA Earthdata Login Password:  ···········\n"
     ]
    }
   ],
   "source": [
    "urs = 'urs.earthdata.nasa.gov'    # Earthdata URL endpoint for authentication\n",
    "prompts = ['Enter NASA Earthdata Login Username: ',\n",
    "           'Enter NASA Earthdata Login Password: ']\n",
    "\n",
    "# Determine the OS (Windows machines usually use an '_netrc' file)\n",
    "netrc_name = \"_netrc\" if system()==\"Windows\" else \".netrc\"\n",
    "\n",
    "# Determine if netrc file exists, and if so, if it includes NASA Earthdata Login Credentials\n",
    "try:\n",
    "    netrcDir = os.path.expanduser(f\"~/{netrc_name}\")`\n",
    "    netrc(netrcDir).authenticators(urs)[0]\n",
    "\n",
    "# Below, create a netrc file and prompt user for NASA Earthdata Login Username and Password\n",
    "except FileNotFoundError:\n",
    "    homeDir = os.path.expanduser(\"~\")\n",
    "    Popen('touch {0}{2} | chmod og-rw {0}.{2} | echo machine {1} >> {0}.netrc'.format(homeDir + os.sep, urs, netrc_name), shell=True)\n",
    "    Popen('echo login {} >> {}{}'.format(getpass(prompt=prompts[0]), homeDir + os.sep, netrc_name), shell=True)\n",
    "    Popen('echo password \\{} >> {}{}'.format(getpass(prompt=prompts[1]), homeDir + os.sep, netrc_name), shell=True)\n",
    "\n",
    "# Determine OS and edit netrc file if it exists but is not set up for NASA Earthdata Login\n",
    "except TypeError:\n",
    "    homeDir = os.path.expanduser(\"~\")\n",
    "    Popen('echo machine {1} >> {0}{2}'.format(homeDir + os.sep, urs, netrc_name), shell=True)\n",
    "    Popen('echo login {} >> {}{}'.format(getpass(prompt=prompts[0]), homeDir + os.sep, netrc_name), shell=True)\n",
    "    Popen('echo password \\{} >> {}{}'.format(getpass(prompt=prompts[1]), homeDir + os.sep, netrc_name), shell=True)"
   ]
  },
  {
   "cell_type": "markdown",
   "id": "7c4f696e-0ce7-4e87-ab97-4467e0c8efb1",
   "metadata": {},
   "source": [
    "#### See if the file was created"
   ]
  },
  {
   "cell_type": "markdown",
   "id": "511accf8-5234-4824-a9b3-873a1c50ec47",
   "metadata": {},
   "source": [
    "If the file was created, we'll see a `.netrc` file (`_netrc` for Window OS) in the list printed below. To view the contents from a Jupyter environment, click **File** on the top toolbar, select **Open from Path...**, type **.netrc**, and click **Open**. The `.netrc` file will open within the text editor. \n",
    "\n",
    "> **!!! Beware,** your password will be visible if the `.netrc` file is opened in the text editor."
   ]
  },
  {
   "cell_type": "code",
   "execution_count": 34,
   "id": "187ac600-77c2-45d2-972e-afd4c929846e",
   "metadata": {},
   "outputs": [
    {
     "name": "stdout",
     "output_type": "stream",
     "text": [
      "total 6524\n",
      "drwxrws--x 18 root   40138    6144 Oct  7 19:48 .\n",
      "drwxr-xr-x  1 root   root       20 Jun 24 15:49 ..\n",
      "drwxr-sr-x  3 jovyan 40138    6144 Feb 22  2021 .aws\n",
      "-rw-------  1 jovyan 40138   38519 Oct  6 23:26 .bash_history\n",
      "drwxr-sr-x  7 jovyan 40138    6144 Mar 31  2021 .cache\n",
      "drwxrwsr-x  2 jovyan 40138    6144 Jun  7 20:18 .conda\n",
      "drwxr-sr-x  5 jovyan 40138    6144 Dec 21  2020 .config\n",
      "-rw-r--r--  1 jovyan 40138       0 Jan 21  2021 .dodsrc\n",
      "-rw-r--r--  1 jovyan 40138      52 Apr 14 21:20 .gitconfig\n",
      "-rw-r--r--  1 jovyan 40138      65 Aug  3 15:37 .gitignore\n",
      "drwxr-sr-x  3 jovyan 40138    6144 Feb 17  2021 .intake\n",
      "drwxr-sr-x  2 jovyan 40138    6144 Oct  7 18:34 .ipynb_checkpoints\n",
      "drwxr-sr-x  5 jovyan 40138    6144 Dec 21  2020 .ipython\n",
      "drwxr-sr-x  3 jovyan 40138    6144 Dec 21  2020 .jupyter\n",
      "drwxr-sr-x  2 jovyan 40138    6144 Feb  8  2021 .keras\n",
      "drwxr-sr-x  3 jovyan 40138    6144 Dec 21  2020 .local\n",
      "-rw-r--r--  1 jovyan 40138      66 Oct  7 19:47 .netrc\n",
      "-rw-r--r--  1 jovyan 40138   12288 Oct  7 19:47 .netrc.swp\n",
      "-rw-r--r--  1 jovyan 40138   12288 Oct  7 19:23 .nfs2bc676b524ca6d3900000003\n",
      "-rw-r--r--  1 jovyan 40138   12288 Oct  7 19:33 .nfs42638417e5e9eb7700000004\n",
      "-rw-r--r--  1 jovyan 40138      54 Oct  7 19:19 .nfs4872e5596aa5419900000001\n",
      "-rw-r--r--  1 jovyan 40138   12288 Oct  7 18:41 .nfsbded039ab2f12a9f00000002\n",
      "drwxr-sr-x  3 jovyan 40138    6144 Dec 21  2020 .npm\n",
      "-rw-------  1 jovyan 40138       7 Jul 29 01:30 .python_history\n",
      "drwx--S---  2 jovyan 40138    6144 Jun 25 15:45 .ssh\n",
      "-rw-------  1 jovyan 40138   11787 Oct  7 19:35 .viminfo\n",
      "drwxr-sr-x 11 jovyan 40138    6144 Oct  7 18:30 2021-Cloud-Hackathon\n",
      "-rw-r--r--  1 jovyan 40138 6458487 Aug 31 20:56 HRRR-Explorer.ipynb\n",
      "-rw-r--r--  1 jovyan 40138    6521 Oct  7 19:48 Untitled.ipynb\n",
      "drwxr-sr-x  5 jovyan 40138    6144 Aug  6 15:26 appeears-cloud-prototype\n",
      "-rw-r--r--  1 jovyan 40138     240 Aug  4 19:41 conda_env.txt\n",
      "-rw-r--r--  1 jovyan 40138    1541 Oct  7 17:43 cookies.txt\n",
      "-rw-r--r--  1 jovyan 40138     110 May  3 19:09 linux_cmds.txt\n",
      "drwxr-sr-x  6 jovyan 40138    6144 Sep 30 15:32 lpdaac_cloud_data_access\n",
      "drwxr-sr-x  5 jovyan 40138    6144 Sep 23 19:34 nasa_direct_s3_data_access\n",
      "-rw-r--r--  1 jovyan 40138     168 Jun 17 15:48 vim_guide.txt\n"
     ]
    }
   ],
   "source": [
    "!ls -al"
   ]
  }
 ],
 "metadata": {
  "kernelspec": {
   "display_name": "Python 3",
   "language": "python",
   "name": "python3"
  },
  "language_info": {
   "codemirror_mode": {
    "name": "ipython",
    "version": 3
   },
   "file_extension": ".py",
   "mimetype": "text/x-python",
   "name": "python",
   "nbconvert_exporter": "python",
   "pygments_lexer": "ipython3",
   "version": "3.7.10"
  }
 },
 "nbformat": 4,
 "nbformat_minor": 5
}
