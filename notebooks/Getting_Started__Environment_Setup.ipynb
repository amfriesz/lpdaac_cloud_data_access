{
 "cells": [
  {
   "cell_type": "markdown",
   "id": "wicked-domain",
   "metadata": {},
   "source": [
    "# Getting Started: Python Environment Setup"
   ]
  },
  {
   "cell_type": "markdown",
   "id": "under-maria",
   "metadata": {},
   "source": [
    "The default Jupyter environment does not have all the Python packages we need to execute the notebooks. We will execute the cell below to install the required packages. This will take a bit of time so be patient. "
   ]
  },
  {
   "cell_type": "code",
   "execution_count": null,
   "id": "stuffed-disability",
   "metadata": {},
   "outputs": [],
   "source": [
    "!mamba install -c conda-forge -y boto3 rioxarray dask datashader hvplot holoviews pystac-client"
   ]
  }
 ],
 "metadata": {
  "kernelspec": {
   "display_name": "Python 3",
   "language": "python",
   "name": "python3"
  },
  "language_info": {
   "codemirror_mode": {
    "name": "ipython",
    "version": 3
   },
   "file_extension": ".py",
   "mimetype": "text/x-python",
   "name": "python",
   "nbconvert_exporter": "python",
   "pygments_lexer": "ipython3",
   "version": "3.7.9"
  }
 },
 "nbformat": 4,
 "nbformat_minor": 5
}
